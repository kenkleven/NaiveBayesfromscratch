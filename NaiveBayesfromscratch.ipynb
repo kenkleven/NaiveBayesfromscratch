{
 "cells": [
  {
   "cell_type": "code",
   "execution_count": 1,
   "id": "3916a591",
   "metadata": {},
   "outputs": [],
   "source": [
    "from NaiveBayesfromscratch import NaiveBayesClassifier, NaiveBayesRegressor"
   ]
  },
  {
   "cell_type": "markdown",
   "id": "c29115b5",
   "metadata": {},
   "source": [
    "# classification"
   ]
  },
  {
   "cell_type": "code",
   "execution_count": 2,
   "id": "50dad018",
   "metadata": {},
   "outputs": [],
   "source": [
    "X = [\n",
    "    ['sunny', 'hot', 'high', 'false'],\n",
    "    ['sunny', 'hot', 'high', 'true'],\n",
    "    ['overcast', 'hot', 'high', 'false'],\n",
    "    ['rainy', 'mild', 'high', 'false'],\n",
    "]\n",
    "y = [0, 0, 1, 1]"
   ]
  },
  {
   "cell_type": "code",
   "execution_count": 3,
   "id": "938004ca",
   "metadata": {},
   "outputs": [],
   "source": [
    "model = NaiveBayesClassifier()\n",
    "model.fit(X, y)"
   ]
  },
  {
   "cell_type": "code",
   "execution_count": 4,
   "id": "2efff940",
   "metadata": {},
   "outputs": [],
   "source": [
    "y_pred = model.predict(X)"
   ]
  },
  {
   "cell_type": "code",
   "execution_count": 5,
   "id": "ce30353f",
   "metadata": {},
   "outputs": [
    {
     "name": "stdout",
     "output_type": "stream",
     "text": [
      "Accuracy : 1.0\n",
      "Precision : 1.0\n",
      "Recall : 1.0\n",
      "F1 Score : 1.0\n"
     ]
    }
   ],
   "source": [
    "print(\"Accuracy :\", model.accuracy(y, y_pred))\n",
    "print(\"Precision :\", model.precision(y, y_pred, positive_class=1))\n",
    "print(\"Recall :\", model.recall(y, y_pred, positive_class=1))\n",
    "print(\"F1 Score :\", model.f1_score(y, y_pred, positive_class=1))"
   ]
  },
  {
   "cell_type": "markdown",
   "id": "825ea39a",
   "metadata": {},
   "source": [
    "# regression"
   ]
  },
  {
   "cell_type": "code",
   "execution_count": 6,
   "id": "9dfde640",
   "metadata": {},
   "outputs": [],
   "source": [
    "X = [[1], [2], [3], [4], [5]]\n",
    "y = [1.1, 1.9, 3.2, 3.9, 5.1]"
   ]
  },
  {
   "cell_type": "code",
   "execution_count": 7,
   "id": "0dc47a3d",
   "metadata": {},
   "outputs": [],
   "source": [
    "model = NaiveBayesRegressor()\n",
    "model.fit(X, y)"
   ]
  },
  {
   "cell_type": "code",
   "execution_count": 8,
   "id": "7241a04a",
   "metadata": {},
   "outputs": [],
   "source": [
    "y_pred = model.predict(X)"
   ]
  },
  {
   "cell_type": "code",
   "execution_count": 9,
   "id": "b7c1b137",
   "metadata": {},
   "outputs": [
    {
     "name": "stdout",
     "output_type": "stream",
     "text": [
      "R² Score: 0.8293458850140651\n",
      "MAE: 0.5071341358761747\n",
      "MSE: 0.34376564922766717\n"
     ]
    }
   ],
   "source": [
    "print(\"R² Score:\", model.r2_score(y, y_pred))\n",
    "print(\"MAE:\", model.mean_absolute_error(y, y_pred))\n",
    "print(\"MSE:\", model.mean_squared_error(y, y_pred))"
   ]
  }
 ],
 "metadata": {
  "kernelspec": {
   "display_name": "Python 3",
   "language": "python",
   "name": "python3"
  },
  "language_info": {
   "codemirror_mode": {
    "name": "ipython",
    "version": 3
   },
   "file_extension": ".py",
   "mimetype": "text/x-python",
   "name": "python",
   "nbconvert_exporter": "python",
   "pygments_lexer": "ipython3",
   "version": "3.10.11"
  }
 },
 "nbformat": 4,
 "nbformat_minor": 5
}
